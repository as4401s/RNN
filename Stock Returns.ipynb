{
 "cells": [
  {
   "cell_type": "code",
   "execution_count": 1,
   "metadata": {},
   "outputs": [],
   "source": [
    "import numpy as np\n",
    "import tensorflow as tf\n",
    "import matplotlib.pyplot as plt\n",
    "import pandas as pd\n",
    "\n",
    "from tensorflow.keras.layers import Input, Dense, LSTM, Dropout\n",
    "from tensorflow.keras.models import Model\n",
    "from tensorflow.keras.optimizers import Adam\n",
    "\n",
    "from sklearn.preprocessing import StandardScaler"
   ]
  },
  {
   "cell_type": "code",
   "execution_count": 2,
   "metadata": {},
   "outputs": [],
   "source": [
    "df = pd.read_csv('https://raw.githubusercontent.com/lazyprogrammer/machine_learning_examples/master/tf2.0/sbux.csv')"
   ]
  },
  {
   "cell_type": "code",
   "execution_count": 3,
   "metadata": {},
   "outputs": [
    {
     "data": {
      "text/html": [
       "<div>\n",
       "<style scoped>\n",
       "    .dataframe tbody tr th:only-of-type {\n",
       "        vertical-align: middle;\n",
       "    }\n",
       "\n",
       "    .dataframe tbody tr th {\n",
       "        vertical-align: top;\n",
       "    }\n",
       "\n",
       "    .dataframe thead th {\n",
       "        text-align: right;\n",
       "    }\n",
       "</style>\n",
       "<table border=\"1\" class=\"dataframe\">\n",
       "  <thead>\n",
       "    <tr style=\"text-align: right;\">\n",
       "      <th></th>\n",
       "      <th>date</th>\n",
       "      <th>open</th>\n",
       "      <th>high</th>\n",
       "      <th>low</th>\n",
       "      <th>close</th>\n",
       "      <th>volume</th>\n",
       "      <th>Name</th>\n",
       "    </tr>\n",
       "  </thead>\n",
       "  <tbody>\n",
       "    <tr>\n",
       "      <th>0</th>\n",
       "      <td>2013-02-08</td>\n",
       "      <td>27.920</td>\n",
       "      <td>28.325</td>\n",
       "      <td>27.920</td>\n",
       "      <td>28.185</td>\n",
       "      <td>7146296</td>\n",
       "      <td>SBUX</td>\n",
       "    </tr>\n",
       "    <tr>\n",
       "      <th>1</th>\n",
       "      <td>2013-02-11</td>\n",
       "      <td>28.260</td>\n",
       "      <td>28.260</td>\n",
       "      <td>27.930</td>\n",
       "      <td>28.070</td>\n",
       "      <td>5457354</td>\n",
       "      <td>SBUX</td>\n",
       "    </tr>\n",
       "    <tr>\n",
       "      <th>2</th>\n",
       "      <td>2013-02-12</td>\n",
       "      <td>28.000</td>\n",
       "      <td>28.275</td>\n",
       "      <td>27.975</td>\n",
       "      <td>28.130</td>\n",
       "      <td>8665592</td>\n",
       "      <td>SBUX</td>\n",
       "    </tr>\n",
       "    <tr>\n",
       "      <th>3</th>\n",
       "      <td>2013-02-13</td>\n",
       "      <td>28.230</td>\n",
       "      <td>28.230</td>\n",
       "      <td>27.750</td>\n",
       "      <td>27.915</td>\n",
       "      <td>7022056</td>\n",
       "      <td>SBUX</td>\n",
       "    </tr>\n",
       "    <tr>\n",
       "      <th>4</th>\n",
       "      <td>2013-02-14</td>\n",
       "      <td>27.765</td>\n",
       "      <td>27.905</td>\n",
       "      <td>27.675</td>\n",
       "      <td>27.775</td>\n",
       "      <td>8899188</td>\n",
       "      <td>SBUX</td>\n",
       "    </tr>\n",
       "  </tbody>\n",
       "</table>\n",
       "</div>"
      ],
      "text/plain": [
       "         date    open    high     low   close   volume  Name\n",
       "0  2013-02-08  27.920  28.325  27.920  28.185  7146296  SBUX\n",
       "1  2013-02-11  28.260  28.260  27.930  28.070  5457354  SBUX\n",
       "2  2013-02-12  28.000  28.275  27.975  28.130  8665592  SBUX\n",
       "3  2013-02-13  28.230  28.230  27.750  27.915  7022056  SBUX\n",
       "4  2013-02-14  27.765  27.905  27.675  27.775  8899188  SBUX"
      ]
     },
     "execution_count": 3,
     "metadata": {},
     "output_type": "execute_result"
    }
   ],
   "source": [
    "df.head()"
   ]
  },
  {
   "cell_type": "code",
   "execution_count": 4,
   "metadata": {},
   "outputs": [],
   "source": [
    "# calculate returns by first shifting the data\n",
    "df['PrevClose'] = df['close'].shift(1) # move everything up 1\n",
    "\n",
    "# so now it's like\n",
    "# close / prev close\n",
    "# x[2] x[1]\n",
    "# x[3] x[2]\n",
    "# x[4] x[3]\n",
    "# ...\n",
    "# x[t] x[t-1]"
   ]
  },
  {
   "cell_type": "code",
   "execution_count": 5,
   "metadata": {},
   "outputs": [
    {
     "data": {
      "text/html": [
       "<div>\n",
       "<style scoped>\n",
       "    .dataframe tbody tr th:only-of-type {\n",
       "        vertical-align: middle;\n",
       "    }\n",
       "\n",
       "    .dataframe tbody tr th {\n",
       "        vertical-align: top;\n",
       "    }\n",
       "\n",
       "    .dataframe thead th {\n",
       "        text-align: right;\n",
       "    }\n",
       "</style>\n",
       "<table border=\"1\" class=\"dataframe\">\n",
       "  <thead>\n",
       "    <tr style=\"text-align: right;\">\n",
       "      <th></th>\n",
       "      <th>date</th>\n",
       "      <th>open</th>\n",
       "      <th>high</th>\n",
       "      <th>low</th>\n",
       "      <th>close</th>\n",
       "      <th>volume</th>\n",
       "      <th>Name</th>\n",
       "      <th>PrevClose</th>\n",
       "    </tr>\n",
       "  </thead>\n",
       "  <tbody>\n",
       "    <tr>\n",
       "      <th>0</th>\n",
       "      <td>2013-02-08</td>\n",
       "      <td>27.920</td>\n",
       "      <td>28.325</td>\n",
       "      <td>27.920</td>\n",
       "      <td>28.185</td>\n",
       "      <td>7146296</td>\n",
       "      <td>SBUX</td>\n",
       "      <td>NaN</td>\n",
       "    </tr>\n",
       "    <tr>\n",
       "      <th>1</th>\n",
       "      <td>2013-02-11</td>\n",
       "      <td>28.260</td>\n",
       "      <td>28.260</td>\n",
       "      <td>27.930</td>\n",
       "      <td>28.070</td>\n",
       "      <td>5457354</td>\n",
       "      <td>SBUX</td>\n",
       "      <td>28.185</td>\n",
       "    </tr>\n",
       "    <tr>\n",
       "      <th>2</th>\n",
       "      <td>2013-02-12</td>\n",
       "      <td>28.000</td>\n",
       "      <td>28.275</td>\n",
       "      <td>27.975</td>\n",
       "      <td>28.130</td>\n",
       "      <td>8665592</td>\n",
       "      <td>SBUX</td>\n",
       "      <td>28.070</td>\n",
       "    </tr>\n",
       "    <tr>\n",
       "      <th>3</th>\n",
       "      <td>2013-02-13</td>\n",
       "      <td>28.230</td>\n",
       "      <td>28.230</td>\n",
       "      <td>27.750</td>\n",
       "      <td>27.915</td>\n",
       "      <td>7022056</td>\n",
       "      <td>SBUX</td>\n",
       "      <td>28.130</td>\n",
       "    </tr>\n",
       "    <tr>\n",
       "      <th>4</th>\n",
       "      <td>2013-02-14</td>\n",
       "      <td>27.765</td>\n",
       "      <td>27.905</td>\n",
       "      <td>27.675</td>\n",
       "      <td>27.775</td>\n",
       "      <td>8899188</td>\n",
       "      <td>SBUX</td>\n",
       "      <td>27.915</td>\n",
       "    </tr>\n",
       "  </tbody>\n",
       "</table>\n",
       "</div>"
      ],
      "text/plain": [
       "         date    open    high     low   close   volume  Name  PrevClose\n",
       "0  2013-02-08  27.920  28.325  27.920  28.185  7146296  SBUX        NaN\n",
       "1  2013-02-11  28.260  28.260  27.930  28.070  5457354  SBUX     28.185\n",
       "2  2013-02-12  28.000  28.275  27.975  28.130  8665592  SBUX     28.070\n",
       "3  2013-02-13  28.230  28.230  27.750  27.915  7022056  SBUX     28.130\n",
       "4  2013-02-14  27.765  27.905  27.675  27.775  8899188  SBUX     27.915"
      ]
     },
     "execution_count": 5,
     "metadata": {},
     "output_type": "execute_result"
    }
   ],
   "source": [
    "df.head()"
   ]
  },
  {
   "cell_type": "code",
   "execution_count": 6,
   "metadata": {},
   "outputs": [],
   "source": [
    "# then the return is\n",
    "# (x[t] - x[t-1]) / x[t-1]           just the stock return formula \n",
    "\n",
    "df['Return'] = (df['close'] - df['PrevClose']) / df['PrevClose']"
   ]
  },
  {
   "cell_type": "markdown",
   "metadata": {},
   "source": [
    "Note = we use the first 10 values to train with the 11th value, so the first object being nan does not cause any effect"
   ]
  },
  {
   "cell_type": "code",
   "execution_count": 7,
   "metadata": {},
   "outputs": [
    {
     "data": {
      "text/html": [
       "<div>\n",
       "<style scoped>\n",
       "    .dataframe tbody tr th:only-of-type {\n",
       "        vertical-align: middle;\n",
       "    }\n",
       "\n",
       "    .dataframe tbody tr th {\n",
       "        vertical-align: top;\n",
       "    }\n",
       "\n",
       "    .dataframe thead th {\n",
       "        text-align: right;\n",
       "    }\n",
       "</style>\n",
       "<table border=\"1\" class=\"dataframe\">\n",
       "  <thead>\n",
       "    <tr style=\"text-align: right;\">\n",
       "      <th></th>\n",
       "      <th>date</th>\n",
       "      <th>open</th>\n",
       "      <th>high</th>\n",
       "      <th>low</th>\n",
       "      <th>close</th>\n",
       "      <th>volume</th>\n",
       "      <th>Name</th>\n",
       "      <th>PrevClose</th>\n",
       "      <th>Return</th>\n",
       "    </tr>\n",
       "  </thead>\n",
       "  <tbody>\n",
       "    <tr>\n",
       "      <th>0</th>\n",
       "      <td>2013-02-08</td>\n",
       "      <td>27.920</td>\n",
       "      <td>28.325</td>\n",
       "      <td>27.920</td>\n",
       "      <td>28.185</td>\n",
       "      <td>7146296</td>\n",
       "      <td>SBUX</td>\n",
       "      <td>NaN</td>\n",
       "      <td>NaN</td>\n",
       "    </tr>\n",
       "    <tr>\n",
       "      <th>1</th>\n",
       "      <td>2013-02-11</td>\n",
       "      <td>28.260</td>\n",
       "      <td>28.260</td>\n",
       "      <td>27.930</td>\n",
       "      <td>28.070</td>\n",
       "      <td>5457354</td>\n",
       "      <td>SBUX</td>\n",
       "      <td>28.185</td>\n",
       "      <td>-0.004080</td>\n",
       "    </tr>\n",
       "    <tr>\n",
       "      <th>2</th>\n",
       "      <td>2013-02-12</td>\n",
       "      <td>28.000</td>\n",
       "      <td>28.275</td>\n",
       "      <td>27.975</td>\n",
       "      <td>28.130</td>\n",
       "      <td>8665592</td>\n",
       "      <td>SBUX</td>\n",
       "      <td>28.070</td>\n",
       "      <td>0.002138</td>\n",
       "    </tr>\n",
       "    <tr>\n",
       "      <th>3</th>\n",
       "      <td>2013-02-13</td>\n",
       "      <td>28.230</td>\n",
       "      <td>28.230</td>\n",
       "      <td>27.750</td>\n",
       "      <td>27.915</td>\n",
       "      <td>7022056</td>\n",
       "      <td>SBUX</td>\n",
       "      <td>28.130</td>\n",
       "      <td>-0.007643</td>\n",
       "    </tr>\n",
       "    <tr>\n",
       "      <th>4</th>\n",
       "      <td>2013-02-14</td>\n",
       "      <td>27.765</td>\n",
       "      <td>27.905</td>\n",
       "      <td>27.675</td>\n",
       "      <td>27.775</td>\n",
       "      <td>8899188</td>\n",
       "      <td>SBUX</td>\n",
       "      <td>27.915</td>\n",
       "      <td>-0.005015</td>\n",
       "    </tr>\n",
       "  </tbody>\n",
       "</table>\n",
       "</div>"
      ],
      "text/plain": [
       "         date    open    high     low   close   volume  Name  PrevClose  \\\n",
       "0  2013-02-08  27.920  28.325  27.920  28.185  7146296  SBUX        NaN   \n",
       "1  2013-02-11  28.260  28.260  27.930  28.070  5457354  SBUX     28.185   \n",
       "2  2013-02-12  28.000  28.275  27.975  28.130  8665592  SBUX     28.070   \n",
       "3  2013-02-13  28.230  28.230  27.750  27.915  7022056  SBUX     28.130   \n",
       "4  2013-02-14  27.765  27.905  27.675  27.775  8899188  SBUX     27.915   \n",
       "\n",
       "     Return  \n",
       "0       NaN  \n",
       "1 -0.004080  \n",
       "2  0.002138  \n",
       "3 -0.007643  \n",
       "4 -0.005015  "
      ]
     },
     "execution_count": 7,
     "metadata": {},
     "output_type": "execute_result"
    }
   ],
   "source": [
    "df.head()"
   ]
  },
  {
   "cell_type": "code",
   "execution_count": 8,
   "metadata": {},
   "outputs": [
    {
     "data": {
      "text/plain": [
       "<matplotlib.axes._subplots.AxesSubplot at 0x1d099b62940>"
      ]
     },
     "execution_count": 8,
     "metadata": {},
     "output_type": "execute_result"
    },
    {
     "data": {
      "image/png": "[encoded data removed]",
      "text/plain": [
       "<Figure size 432x288 with 1 Axes>"
      ]
     },
     "metadata": {
      "needs_background": "light"
     },
     "output_type": "display_data"
    }
   ],
   "source": [
    "# Now let's try an LSTM to predict returns\n",
    "df['Return'].hist()"
   ]
  },
  {
   "cell_type": "code",
   "execution_count": 9,
   "metadata": {},
   "outputs": [],
   "source": [
    "# we see most values are really small. so we need to scale them\n",
    "\n",
    "series = df['Return'].values[1:].reshape(-1,1)     #ignoring the first value"
   ]
  },
  {
   "cell_type": "code",
   "execution_count": 10,
   "metadata": {},
   "outputs": [],
   "source": [
    "sc = StandardScaler ()\n",
    "\n",
    "## Normalize the data\n",
    "# Note: I didn't think about where the true boundary is, this is just approx."
   ]
  },
  {
   "cell_type": "code",
   "execution_count": 11,
   "metadata": {},
   "outputs": [
    {
     "data": {
      "text/plain": [
       "StandardScaler(copy=True, with_mean=True, with_std=True)"
      ]
     },
     "execution_count": 11,
     "metadata": {},
     "output_type": "execute_result"
    }
   ],
   "source": [
    "sc.fit(series[:len(series//2)])      # done only on first half, as we dont want to include test data on training pipeline"
   ]
  },
  {
   "cell_type": "code",
   "execution_count": 12,
   "metadata": {},
   "outputs": [],
   "source": [
    "series = sc.transform(series).flatten()"
   ]
  },
  {
   "cell_type": "code",
   "execution_count": 13,
   "metadata": {},
   "outputs": [
    {
     "name": "stdout",
     "output_type": "stream",
     "text": [
      "X.shape (1248, 10, 1) Y.shape (1248,)\n"
     ]
    }
   ],
   "source": [
    "### build the dataset\n",
    "# let's see if we can use T past values to predict the next value\n",
    "T = 10\n",
    "D = 1\n",
    "X = []\n",
    "Y = []\n",
    "for t in range(len(series) - T):\n",
    "    X.append(series[t:t+T])\n",
    "    Y.append(series[t+T])\n",
    "    \n",
    "X = np.array(X).reshape(-1, T, D) # Now the data should be N x T x D\n",
    "Y = np.array(Y)\n",
    "N = len(X)\n",
    "print(\"X.shape\", X.shape, \"Y.shape\", Y.shape)"
   ]
  },
  {
   "cell_type": "code",
   "execution_count": 14,
   "metadata": {},
   "outputs": [],
   "source": [
    "#rnn\n",
    "\n",
    "i = Input(shape=(T,1))\n",
    "x = LSTM(50, return_sequences=True)(i)\n",
    "x = Dropout(0.2)(x)\n",
    "x = LSTM(50, return_sequences=True)(x)\n",
    "x = Dropout(0.2)(x)\n",
    "x = LSTM(50, return_sequences=True)(x)\n",
    "x = Dropout(0.2)(x)\n",
    "x = LSTM(50)(x)\n",
    "x = Dropout(0.2)(x)\n",
    "x = Dense(1)(x)\n",
    "\n",
    "model = Model(i, x)\n",
    "model.compile(\n",
    "  loss='mse',\n",
    "  optimizer=Adam(lr=0.01))"
   ]
  },
  {
   "cell_type": "code",
   "execution_count": 15,
   "metadata": {},
   "outputs": [
    {
     "name": "stdout",
     "output_type": "stream",
     "text": [
      "Train on 624 samples, validate on 624 samples\n",
      "Epoch 1/100\n",
      "624/624 [==============================] - 7s 11ms/sample - loss: 0.9576 - val_loss: 1.0739\n",
      "Epoch 2/100\n",
      "624/624 [==============================] - 0s 768us/sample - loss: 0.9478 - val_loss: 1.0659\n",
      "Epoch 3/100\n",
      "624/624 [==============================] - 0s 770us/sample - loss: 0.9337 - val_loss: 1.0800\n",
      "Epoch 4/100\n",
      "624/624 [==============================] - 0s 772us/sample - loss: 0.9369 - val_loss: 1.0782\n",
      "Epoch 5/100\n",
      "624/624 [==============================] - 0s 764us/sample - loss: 0.9343 - val_loss: 1.0756\n",
      "Epoch 6/100\n",
      "624/624 [==============================] - 0s 768us/sample - loss: 0.9363 - val_loss: 1.0710\n",
      "Epoch 7/100\n",
      "624/624 [==============================] - 0s 759us/sample - loss: 0.9293 - val_loss: 1.0917\n",
      "Epoch 8/100\n",
      "624/624 [==============================] - 0s 759us/sample - loss: 0.9204 - val_loss: 1.0726\n",
      "Epoch 9/100\n",
      "624/624 [==============================] - 0s 757us/sample - loss: 0.9290 - val_loss: 1.0718\n",
      "Epoch 10/100\n",
      "624/624 [==============================] - 0s 767us/sample - loss: 0.9359 - val_loss: 1.0666\n",
      "Epoch 11/100\n",
      "624/624 [==============================] - 0s 754us/sample - loss: 0.9402 - val_loss: 1.0758\n",
      "Epoch 12/100\n",
      "624/624 [==============================] - 0s 765us/sample - loss: 0.9360 - val_loss: 1.0729\n",
      "Epoch 13/100\n",
      "624/624 [==============================] - 0s 772us/sample - loss: 0.9297 - val_loss: 1.0662\n",
      "Epoch 14/100\n",
      "624/624 [==============================] - 0s 776us/sample - loss: 0.9267 - val_loss: 1.0840\n",
      "Epoch 15/100\n",
      "624/624 [==============================] - 0s 784us/sample - loss: 0.9269 - val_loss: 1.0848\n",
      "Epoch 16/100\n",
      "624/624 [==============================] - 0s 770us/sample - loss: 0.9121 - val_loss: 1.1473\n",
      "Epoch 17/100\n",
      "624/624 [==============================] - 0s 760us/sample - loss: 0.9466 - val_loss: 1.0694\n",
      "Epoch 18/100\n",
      "624/624 [==============================] - 0s 755us/sample - loss: 0.9299 - val_loss: 1.0801\n",
      "Epoch 19/100\n",
      "624/624 [==============================] - 0s 768us/sample - loss: 0.9292 - val_loss: 1.0803\n",
      "Epoch 20/100\n",
      "624/624 [==============================] - 0s 768us/sample - loss: 0.9200 - val_loss: 1.1032\n",
      "Epoch 21/100\n",
      "624/624 [==============================] - ETA: 0s - loss: 0.902 - 0s 770us/sample - loss: 0.9184 - val_loss: 1.0750\n",
      "Epoch 22/100\n",
      "624/624 [==============================] - 0s 778us/sample - loss: 0.9243 - val_loss: 1.0788\n",
      "Epoch 23/100\n",
      "624/624 [==============================] - 0s 768us/sample - loss: 0.8992 - val_loss: 1.1760\n",
      "Epoch 24/100\n",
      "624/624 [==============================] - 0s 759us/sample - loss: 0.9107 - val_loss: 1.0640\n",
      "Epoch 25/100\n",
      "624/624 [==============================] - 0s 759us/sample - loss: 0.9393 - val_loss: 1.0790\n",
      "Epoch 26/100\n",
      "624/624 [==============================] - 0s 760us/sample - loss: 0.9430 - val_loss: 1.0644\n",
      "Epoch 27/100\n",
      "624/624 [==============================] - 0s 761us/sample - loss: 0.9321 - val_loss: 1.0755\n",
      "Epoch 28/100\n",
      "624/624 [==============================] - 0s 762us/sample - loss: 0.9270 - val_loss: 1.0789\n",
      "Epoch 29/100\n",
      "624/624 [==============================] - 0s 768us/sample - loss: 0.9203 - val_loss: 1.0859\n",
      "Epoch 30/100\n",
      "624/624 [==============================] - 0s 767us/sample - loss: 0.9160 - val_loss: 1.0798\n",
      "Epoch 31/100\n",
      "624/624 [==============================] - 0s 764us/sample - loss: 0.9374 - val_loss: 1.0902\n",
      "Epoch 32/100\n",
      "624/624 [==============================] - 0s 761us/sample - loss: 0.9282 - val_loss: 1.0667\n",
      "Epoch 33/100\n",
      "624/624 [==============================] - 0s 770us/sample - loss: 0.9290 - val_loss: 1.0805\n",
      "Epoch 34/100\n",
      "624/624 [==============================] - 0s 764us/sample - loss: 0.9326 - val_loss: 1.0666\n",
      "Epoch 35/100\n",
      "624/624 [==============================] - 0s 768us/sample - loss: 0.9312 - val_loss: 1.0709\n",
      "Epoch 36/100\n",
      "624/624 [==============================] - 0s 762us/sample - loss: 0.9187 - val_loss: 1.0849\n",
      "Epoch 37/100\n",
      "624/624 [==============================] - 0s 759us/sample - loss: 0.9240 - val_loss: 1.0945\n",
      "Epoch 38/100\n",
      "624/624 [==============================] - 0s 765us/sample - loss: 0.9273 - val_loss: 1.0741\n",
      "Epoch 39/100\n",
      "624/624 [==============================] - 0s 764us/sample - loss: 0.9105 - val_loss: 1.0863\n",
      "Epoch 40/100\n",
      "624/624 [==============================] - 0s 773us/sample - loss: 0.9100 - val_loss: 1.1531\n",
      "Epoch 41/100\n",
      "624/624 [==============================] - 0s 772us/sample - loss: 0.9014 - val_loss: 1.1207\n",
      "Epoch 42/100\n",
      "624/624 [==============================] - 0s 760us/sample - loss: 0.9102 - val_loss: 1.0832\n",
      "Epoch 43/100\n",
      "624/624 [==============================] - 0s 757us/sample - loss: 0.9068 - val_loss: 1.0856\n",
      "Epoch 44/100\n",
      "624/624 [==============================] - 0s 765us/sample - loss: 0.8916 - val_loss: 1.1561\n",
      "Epoch 45/100\n",
      "624/624 [==============================] - 0s 775us/sample - loss: 0.8935 - val_loss: 1.0920\n",
      "Epoch 46/100\n",
      "624/624 [==============================] - 0s 765us/sample - loss: 0.8789 - val_loss: 1.1265\n",
      "Epoch 47/100\n",
      "624/624 [==============================] - 0s 764us/sample - loss: 0.8826 - val_loss: 1.1571\n",
      "Epoch 48/100\n",
      "624/624 [==============================] - 0s 767us/sample - loss: 0.9202 - val_loss: 1.0733\n",
      "Epoch 49/100\n",
      "624/624 [==============================] - 0s 755us/sample - loss: 0.9217 - val_loss: 1.0777\n",
      "Epoch 50/100\n",
      "624/624 [==============================] - 0s 768us/sample - loss: 0.9217 - val_loss: 1.0812\n",
      "Epoch 51/100\n",
      "624/624 [==============================] - 0s 765us/sample - loss: 0.9148 - val_loss: 1.0976\n",
      "Epoch 52/100\n",
      "624/624 [==============================] - 0s 764us/sample - loss: 0.8842 - val_loss: 1.1205\n",
      "Epoch 53/100\n",
      "624/624 [==============================] - 0s 776us/sample - loss: 0.8675 - val_loss: 1.0997\n",
      "Epoch 54/100\n",
      "624/624 [==============================] - 0s 800us/sample - loss: 0.8943 - val_loss: 1.1780\n",
      "Epoch 55/100\n",
      "624/624 [==============================] - 1s 802us/sample - loss: 0.8872 - val_loss: 1.1131\n",
      "Epoch 56/100\n",
      "624/624 [==============================] - 0s 783us/sample - loss: 0.8429 - val_loss: 1.1515\n",
      "Epoch 57/100\n",
      "624/624 [==============================] - 0s 768us/sample - loss: 0.8365 - val_loss: 1.2407\n",
      "Epoch 58/100\n",
      "624/624 [==============================] - 0s 772us/sample - loss: 0.8712 - val_loss: 1.1379\n",
      "Epoch 59/100\n",
      "624/624 [==============================] - 0s 757us/sample - loss: 0.8216 - val_loss: 1.1671\n",
      "Epoch 60/100\n",
      "624/624 [==============================] - 0s 773us/sample - loss: 0.8201 - val_loss: 1.1567\n",
      "Epoch 61/100\n",
      "624/624 [==============================] - 0s 767us/sample - loss: 0.8204 - val_loss: 1.2119\n",
      "Epoch 62/100\n",
      "624/624 [==============================] - 0s 757us/sample - loss: 0.7974 - val_loss: 1.1845\n",
      "Epoch 63/100\n",
      "624/624 [==============================] - 0s 768us/sample - loss: 0.8271 - val_loss: 1.1507\n",
      "Epoch 64/100\n",
      "624/624 [==============================] - 0s 767us/sample - loss: 0.7587 - val_loss: 1.2536\n",
      "Epoch 65/100\n",
      "624/624 [==============================] - 0s 776us/sample - loss: 0.7708 - val_loss: 1.2678\n",
      "Epoch 66/100\n",
      "624/624 [==============================] - 0s 772us/sample - loss: 0.6838 - val_loss: 1.2669\n",
      "Epoch 67/100\n",
      "624/624 [==============================] - 0s 772us/sample - loss: 0.7024 - val_loss: 1.2705\n",
      "Epoch 68/100\n",
      "624/624 [==============================] - 0s 776us/sample - loss: 0.7308 - val_loss: 1.2337\n",
      "Epoch 69/100\n",
      "624/624 [==============================] - 0s 775us/sample - loss: 0.6700 - val_loss: 1.3243\n",
      "Epoch 70/100\n",
      "624/624 [==============================] - 0s 768us/sample - loss: 0.6910 - val_loss: 1.3340\n",
      "Epoch 71/100\n",
      "624/624 [==============================] - 0s 768us/sample - loss: 0.6715 - val_loss: 1.3698\n",
      "Epoch 72/100\n",
      "624/624 [==============================] - 0s 767us/sample - loss: 0.6655 - val_loss: 1.2838\n",
      "Epoch 73/100\n",
      "624/624 [==============================] - 0s 764us/sample - loss: 0.6832 - val_loss: 1.3218\n",
      "Epoch 74/100\n",
      "624/624 [==============================] - 0s 762us/sample - loss: 0.6587 - val_loss: 1.4209\n",
      "Epoch 75/100\n",
      "624/624 [==============================] - 0s 783us/sample - loss: 0.6005 - val_loss: 1.3295\n",
      "Epoch 76/100\n",
      "624/624 [==============================] - 0s 773us/sample - loss: 0.5877 - val_loss: 1.4267\n",
      "Epoch 77/100\n"
     ]
    },
    {
     "name": "stdout",
     "output_type": "stream",
     "text": [
      "624/624 [==============================] - 0s 764us/sample - loss: 0.5842 - val_loss: 1.3800\n",
      "Epoch 78/100\n",
      "624/624 [==============================] - 0s 767us/sample - loss: 0.5426 - val_loss: 1.3802\n",
      "Epoch 79/100\n",
      "624/624 [==============================] - 0s 770us/sample - loss: 0.4839 - val_loss: 1.3809\n",
      "Epoch 80/100\n",
      "624/624 [==============================] - 0s 775us/sample - loss: 0.4833 - val_loss: 1.3888\n",
      "Epoch 81/100\n",
      "624/624 [==============================] - 0s 767us/sample - loss: 0.4984 - val_loss: 1.4602\n",
      "Epoch 82/100\n",
      "624/624 [==============================] - 0s 768us/sample - loss: 0.4897 - val_loss: 1.4707\n",
      "Epoch 83/100\n",
      "624/624 [==============================] - 0s 762us/sample - loss: 0.5267 - val_loss: 1.3577\n",
      "Epoch 84/100\n",
      "624/624 [==============================] - 0s 767us/sample - loss: 0.4950 - val_loss: 1.3961\n",
      "Epoch 85/100\n",
      "624/624 [==============================] - 0s 767us/sample - loss: 0.4930 - val_loss: 1.2980\n",
      "Epoch 86/100\n",
      "624/624 [==============================] - 0s 767us/sample - loss: 0.4624 - val_loss: 1.6427\n",
      "Epoch 87/100\n",
      "624/624 [==============================] - 0s 772us/sample - loss: 0.4325 - val_loss: 1.5791\n",
      "Epoch 88/100\n",
      "624/624 [==============================] - 0s 791us/sample - loss: 0.4753 - val_loss: 1.4898\n",
      "Epoch 89/100\n",
      "624/624 [==============================] - 0s 791us/sample - loss: 0.4065 - val_loss: 1.4444\n",
      "Epoch 90/100\n",
      "624/624 [==============================] - 0s 776us/sample - loss: 0.3704 - val_loss: 1.5880\n",
      "Epoch 91/100\n",
      "624/624 [==============================] - 0s 772us/sample - loss: 0.4334 - val_loss: 1.4410\n",
      "Epoch 92/100\n",
      "624/624 [==============================] - 0s 775us/sample - loss: 0.3909 - val_loss: 1.4529\n",
      "Epoch 93/100\n",
      "624/624 [==============================] - 0s 770us/sample - loss: 0.4270 - val_loss: 1.7682\n",
      "Epoch 94/100\n",
      "624/624 [==============================] - 0s 775us/sample - loss: 0.4986 - val_loss: 1.4793\n",
      "Epoch 95/100\n",
      "624/624 [==============================] - 0s 770us/sample - loss: 0.4210 - val_loss: 1.3976\n",
      "Epoch 96/100\n",
      "624/624 [==============================] - 0s 776us/sample - loss: 0.3856 - val_loss: 1.4762\n",
      "Epoch 97/100\n",
      "624/624 [==============================] - 0s 789us/sample - loss: 0.3721 - val_loss: 1.4890\n",
      "Epoch 98/100\n",
      "624/624 [==============================] - 0s 797us/sample - loss: 0.3338 - val_loss: 1.5638\n",
      "Epoch 99/100\n",
      "624/624 [==============================] - 0s 784us/sample - loss: 0.3178 - val_loss: 1.4814\n",
      "Epoch 100/100\n",
      "624/624 [==============================] - 0s 794us/sample - loss: 0.3732 - val_loss: 1.6082\n"
     ]
    }
   ],
   "source": [
    "r = model.fit(X[:-N//2], Y[:-N//2], validation_data = (X[-N//2:], Y[-N//2:]), epochs = 100 )"
   ]
  },
  {
   "cell_type": "code",
   "execution_count": 16,
   "metadata": {},
   "outputs": [
    {
     "data": {
      "text/plain": [
       "<matplotlib.legend.Legend at 0x1d0e1364f98>"
      ]
     },
     "execution_count": 16,
     "metadata": {},
     "output_type": "execute_result"
    },
    {
     "data": {
      "image/png": "[encoded data removed]",
      "text/plain": [
       "<Figure size 432x288 with 1 Axes>"
      ]
     },
     "metadata": {
      "needs_background": "light"
     },
     "output_type": "display_data"
    }
   ],
   "source": [
    "# Plot loss per iteration\n",
    "\n",
    "plt.plot(r.history['loss'], label='loss')\n",
    "plt.plot(r.history['val_loss'], label='val_loss')\n",
    "plt.legend()"
   ]
  },
  {
   "cell_type": "code",
   "execution_count": 17,
   "metadata": {},
   "outputs": [
    {
     "name": "stdout",
     "output_type": "stream",
     "text": [
      "(1248, 1)\n"
     ]
    },
    {
     "data": {
      "image/png": "[encoded data removed]",
      "text/plain": [
       "<Figure size 432x288 with 1 Axes>"
      ]
     },
     "metadata": {
      "needs_background": "light"
     },
     "output_type": "display_data"
    }
   ],
   "source": [
    "# One-step forecast using true targets\n",
    "outputs = model.predict(X)\n",
    "print(outputs.shape)\n",
    "predictions = outputs[:,0]\n",
    "\n",
    "plt.plot(Y, label='targets')\n",
    "plt.plot(predictions, label='predictions')\n",
    "plt.legend()\n",
    "plt.show()"
   ]
  },
  {
   "cell_type": "code",
   "execution_count": 18,
   "metadata": {},
   "outputs": [
    {
     "data": {
      "text/plain": [
       "<matplotlib.legend.Legend at 0x1d0fc899438>"
      ]
     },
     "execution_count": 18,
     "metadata": {},
     "output_type": "execute_result"
    },
    {
     "data": {
      "image/png": "[encoded data removed]",
      "text/plain": [
       "<Figure size 432x288 with 1 Axes>"
      ]
     },
     "metadata": {
      "needs_background": "light"
     },
     "output_type": "display_data"
    }
   ],
   "source": [
    "# Multi-step forecast\n",
    "validation_target = Y[-N//2:]\n",
    "validation_predictions = []\n",
    "\n",
    "# last train input\n",
    "last_x = X[-N//2] # 1-D array of length T\n",
    "\n",
    "while len(validation_predictions) < len(validation_target):\n",
    "  p = model.predict(last_x.reshape(1, T, 1))[0,0] # 1x1 array -> scalar\n",
    "  \n",
    "  # update the predictions list\n",
    "  validation_predictions.append(p)\n",
    "  \n",
    "  # make the new input\n",
    "  last_x = np.roll(last_x, -1)\n",
    "  last_x[-1] = p\n",
    "\n",
    "plt.plot(validation_target, label='forecast target')\n",
    "plt.plot(validation_predictions, label='forecast prediction')\n",
    "plt.legend()"
   ]
  },
  {
   "cell_type": "code",
   "execution_count": null,
   "metadata": {},
   "outputs": [],
   "source": []
  }
 ],
 "metadata": {
  "kernelspec": {
   "display_name": "Python 3",
   "language": "python",
   "name": "python3"
  },
  "language_info": {
   "codemirror_mode": {
    "name": "ipython",
    "version": 3
   },
   "file_extension": ".py",
   "mimetype": "text/x-python",
   "name": "python",
   "nbconvert_exporter": "python",
   "pygments_lexer": "ipython3",
   "version": "3.7.3"
  }
 },
 "nbformat": 4,
 "nbformat_minor": 2
}
